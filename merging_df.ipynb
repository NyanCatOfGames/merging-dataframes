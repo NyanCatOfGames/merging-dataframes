{
 "cells": [
  {
   "cell_type": "code",
   "execution_count": 1,
   "metadata": {},
   "outputs": [],
   "source": [
    "import pandas as pd"
   ]
  },
  {
   "cell_type": "code",
   "execution_count": 2,
   "metadata": {},
   "outputs": [],
   "source": [
    "df1_data = [[12341, \"Tina\", \"CANADA\"], [12342, \"Sid\", \"USA\"], [12343, \"Vansh\", \"INDIA\"], [12344, \"Shlok\", \"RUSSIA\"]]\n",
    "df1 = pd.DataFrame(df1_data, columns=[\"Ticket number\", \"Name\", \"Destination\"])\n",
    "\n",
    "df2_data = [[12345, \"Andy\", \"INDIA\"], [12346, \"Sandy\", \"INDIA\"], [12347, \"Raj\", \"RUSSIA\"], [12348, \"Rocky\", \"CANADA\"]]\n",
    "df2 = pd.DataFrame(df2_data, columns=[\"Ticket number\", \"Name\", \"Destination\"])"
   ]
  },
  {
   "cell_type": "code",
   "execution_count": 6,
   "metadata": {},
   "outputs": [
    {
     "name": "stdout",
     "output_type": "stream",
     "text": [
      "   Ticket number   Name Destination\n",
      "0          12341   Tina      CANADA\n",
      "1          12342    Sid         USA\n",
      "2          12343  Vansh       INDIA\n",
      "3          12344  Shlok      RUSSIA\n"
     ]
    }
   ],
   "source": [
    "print(df1)"
   ]
  },
  {
   "cell_type": "code",
   "execution_count": 8,
   "metadata": {},
   "outputs": [
    {
     "name": "stdout",
     "output_type": "stream",
     "text": [
      "   Ticket number   Name Destination\n",
      "0          12345   Andy       INDIA\n",
      "1          12346  Sandy       INDIA\n",
      "2          12347    Raj      RUSSIA\n",
      "3          12348  Rocky      CANADA\n"
     ]
    }
   ],
   "source": [
    "print(df2)"
   ]
  },
  {
   "cell_type": "code",
   "execution_count": 9,
   "metadata": {},
   "outputs": [
    {
     "name": "stdout",
     "output_type": "stream",
     "text": [
      "   Ticket number   Name Destination\n",
      "0          12341   Tina      CANADA\n",
      "1          12342    Sid         USA\n",
      "2          12343  Vansh       INDIA\n",
      "3          12344  Shlok      RUSSIA\n",
      "0          12345   Andy       INDIA\n",
      "1          12346  Sandy       INDIA\n",
      "2          12347    Raj      RUSSIA\n",
      "3          12348  Rocky      CANADA\n"
     ]
    }
   ],
   "source": [
    "result = pd.concat([df1, df2])\n",
    "print(result)"
   ]
  },
  {
   "cell_type": "code",
   "execution_count": null,
   "metadata": {},
   "outputs": [],
   "source": []
  }
 ],
 "metadata": {
  "kernelspec": {
   "display_name": "Python 3",
   "language": "python",
   "name": "python3"
  },
  "language_info": {
   "codemirror_mode": {
    "name": "ipython",
    "version": 3
   },
   "file_extension": ".py",
   "mimetype": "text/x-python",
   "name": "python",
   "nbconvert_exporter": "python",
   "pygments_lexer": "ipython3",
   "version": "3.10.1"
  },
  "orig_nbformat": 4
 },
 "nbformat": 4,
 "nbformat_minor": 2
}
